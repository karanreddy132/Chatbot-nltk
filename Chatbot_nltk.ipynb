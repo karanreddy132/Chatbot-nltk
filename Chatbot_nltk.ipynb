{
  "nbformat": 4,
  "nbformat_minor": 0,
  "metadata": {
    "colab": {
      "provenance": []
    },
    "kernelspec": {
      "name": "python3",
      "display_name": "Python 3"
    },
    "language_info": {
      "name": "python"
    }
  },
  "cells": [
    {
      "cell_type": "code",
      "execution_count": null,
      "metadata": {
        "id": "uo-EpIsFapXm"
      },
      "outputs": [],
      "source": [
        "import nltk\n",
        "import warnings\n",
        "from nltk.stem import WordNetLemmatizer\n",
        "import string\n",
        "import random\n",
        "from sklearn.feature_extraction.text import TfidfVectorizer\n",
        "from sklearn.metrics.pairwise import cosine_similarity"
      ]
    },
    {
      "cell_type": "code",
      "source": [
        "warnings.filterwarnings('ignore')"
      ],
      "metadata": {
        "id": "lgESxNMydvT2"
      },
      "execution_count": null,
      "outputs": []
    },
    {
      "cell_type": "markdown",
      "source": [
        "**Downloading necessary packages**"
      ],
      "metadata": {
        "id": "61QLGuhEgeGS"
      }
    },
    {
      "cell_type": "code",
      "source": [
        "nltk.download('popular',quiet=True)  #Downloads nltk packages\n",
        "nltk.download('punkt',quiet=True)    #Downloads tokenizer used for word tokenization\n",
        "nltk.download('wordnet',quiet=True)  #Wordnet provides vast collection of synonym sets"
      ],
      "metadata": {
        "colab": {
          "base_uri": "https://localhost:8080/"
        },
        "id": "lAAB-BU8bby_",
        "outputId": "162e673f-47b8-48f4-971a-f51d2402c293"
      },
      "execution_count": null,
      "outputs": [
        {
          "output_type": "execute_result",
          "data": {
            "text/plain": [
              "True"
            ]
          },
          "metadata": {},
          "execution_count": 4
        }
      ]
    },
    {
      "cell_type": "markdown",
      "source": [
        "**Reading text file and storing it in a string**"
      ],
      "metadata": {
        "id": "oh5a4CxCgjpk"
      }
    },
    {
      "cell_type": "code",
      "source": [
        "with open('/content/Virat_Kohli.txt','r') as f:\n",
        "  txt = f.read().lower()"
      ],
      "metadata": {
        "id": "qf9_UdNgbsDf"
      },
      "execution_count": null,
      "outputs": []
    },
    {
      "cell_type": "markdown",
      "source": [
        "#Tokenization"
      ],
      "metadata": {
        "id": "f_6TV36Fhqqk"
      }
    },
    {
      "cell_type": "code",
      "source": [
        "sent_tokens = nltk.sent_tokenize(txt)  #Contains sentence tokens\n",
        "word_tokens = nltk.word_tokenize(txt)  #Contains word tokens"
      ],
      "metadata": {
        "id": "b4XPGMXrgbZ6"
      },
      "execution_count": null,
      "outputs": []
    },
    {
      "cell_type": "code",
      "source": [
        "print(len(sent_tokens))\n",
        "print(len(word_tokens))"
      ],
      "metadata": {
        "colab": {
          "base_uri": "https://localhost:8080/"
        },
        "id": "j4crbfH2hOfw",
        "outputId": "db0fa3b8-e255-4d60-8d4d-3a04ce8a2f9a"
      },
      "execution_count": null,
      "outputs": [
        {
          "output_type": "stream",
          "name": "stdout",
          "text": [
            "2310\n",
            "36708\n"
          ]
        }
      ]
    },
    {
      "cell_type": "markdown",
      "source": [
        "#Preprocessing"
      ],
      "metadata": {
        "id": "ZwaC2kgDhv2h"
      }
    },
    {
      "cell_type": "code",
      "source": [
        "lemmer = WordNetLemmatizer()\n",
        "def lemmatization(tokens):\n",
        "  return [lemmer.lemmatize(token) for token in tokens]"
      ],
      "metadata": {
        "id": "dt2W1cylhdlv"
      },
      "execution_count": null,
      "outputs": []
    },
    {
      "cell_type": "markdown",
      "source": [
        "**Dictionary whose keys are ordinal values of punctuations and values set to none**"
      ],
      "metadata": {
        "id": "5_9UgzSsm16S"
      }
    },
    {
      "cell_type": "code",
      "source": [
        "remove_punc_dict = dict((ord(punc),None) for punc in string.punctuation)"
      ],
      "metadata": {
        "id": "bSbuHtVqjqig"
      },
      "execution_count": null,
      "outputs": []
    },
    {
      "cell_type": "markdown",
      "source": [
        "**removes all punctuations, then tokenizes the sentences and apply lemmatization to tokenized words**"
      ],
      "metadata": {
        "id": "8e8XzNsEmab-"
      }
    },
    {
      "cell_type": "code",
      "source": [
        "def token_lemma(text):\n",
        "  return lemmatization(nltk.word_tokenize(text.lower().translate(remove_punc_dict)))"
      ],
      "metadata": {
        "id": "U_MMjR8slF1Z"
      },
      "execution_count": null,
      "outputs": []
    },
    {
      "cell_type": "code",
      "source": [
        "GREETING_INPUTS = [\"hello\", \"hi\", \"greetings\", \"sup\", \"what's up\",\"hey\"]\n",
        "GREETING_RESPONSES = [\"hi\", \"hey\", \"*nods*\", \"hi there\", \"hello\", \"I am glad! You are talking to me\"]\n",
        "\n",
        "def greeting(user_response):\n",
        "  for word in user_response.split():\n",
        "    if word.lower() in GREETING_INPUTS:\n",
        "      return random.choice(GREETING_INPUTS)"
      ],
      "metadata": {
        "id": "KlXl-dRemYE-"
      },
      "execution_count": null,
      "outputs": []
    },
    {
      "cell_type": "code",
      "source": [
        "def botresponse(user_response):\n",
        "  bot_response = ''\n",
        "  sent_tokens.append(user_response)\n",
        "  tfidfVect = TfidfVectorizer(tokenizer=token_lemma, stop_words='english')\n",
        "  tfidf = tfidfVect.fit_transform(sent_tokens)\n",
        "  vals = cosine_similarity(tfidf[-1],tfidf)\n",
        "  idx = vals.argsort()[0][-2]    #Stores the index of sentence with maximum similarity\n",
        "  flat = vals.flatten()\n",
        "  flat.sort()\n",
        "  req_tfidf = flat[-2]\n",
        "  if(req_tfidf==0):\n",
        "    bot_response = bot_response + \"Sorry, I don't understand you!!\"\n",
        "  else:\n",
        "    bot_response = bot_response + sent_tokens[idx]\n",
        "\n",
        "  return bot_response"
      ],
      "metadata": {
        "id": "Nt0V3YqQ_fiV"
      },
      "execution_count": null,
      "outputs": []
    },
    {
      "cell_type": "code",
      "source": [
        "flag = True\n",
        "\n",
        "print('Bot : Hey, I am your bot. How can I help you? To exit the chat type bye')\n",
        "\n",
        "while(flag):\n",
        "  user_response = input()\n",
        "  if(user_response.lower()!='bye'):\n",
        "    if(user_response=='thanks' or user_response=='thank you' ):\n",
        "      flag=False\n",
        "      print(\"ROBO: You are welcome..\")\n",
        "    else:\n",
        "      if(greeting(user_response)!=None):\n",
        "        print('Bot : '+greeting(user_response))\n",
        "      else:\n",
        "        print('Bot : '+botresponse(user_response))\n",
        "        sent_tokens.remove(user_response)\n",
        "  else:\n",
        "    flag = False\n",
        "    print('Ok, have a nice day!!')"
      ],
      "metadata": {
        "id": "lKWhDdwTCHUM"
      },
      "execution_count": null,
      "outputs": []
    }
  ]
}